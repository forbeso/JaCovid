{
  "nbformat": 4,
  "nbformat_minor": 0,
  "metadata": {
    "colab": {
      "name": "Jamaica Covid-19 Cases By Parish.ipynb",
      "provenance": [],
      "private_outputs": true,
      "collapsed_sections": [],
      "authorship_tag": "ABX9TyNRcdzX52EV1krENY13hSMy",
      "include_colab_link": true
    },
    "kernelspec": {
      "name": "python3",
      "display_name": "Python 3"
    }
  },
  "cells": [
    {
      "cell_type": "markdown",
      "metadata": {
        "id": "view-in-github",
        "colab_type": "text"
      },
      "source": [
        "<a href=\"https://colab.research.google.com/github/forbeso/JaCovid/blob/develop/Jamaica_Covid_19_Cases_By_Parish.ipynb\" target=\"_parent\"><img src=\"https://colab.research.google.com/assets/colab-badge.svg\" alt=\"Open In Colab\"/></a>"
      ]
    },
    {
      "cell_type": "code",
      "metadata": {
        "id": "upAQANwOi0g-",
        "colab_type": "code",
        "colab": {}
      },
      "source": [
        "import pandas as pd\n",
        "import folium\n",
        "from folium import FeatureGroup, LayerControl, Map, Marker, Choropleth, ColorMap\n",
        "import json\n",
        "import os\n",
        "import pathlib as pl\n",
        "from bs4 import BeautifulSoup\n",
        "import urllib.request,json\n",
        "import requests\n",
        "from folium.plugins import MarkerCluster\n",
        "import re\n",
        "import numpy as np"
      ],
      "execution_count": 0,
      "outputs": []
    },
    {
      "cell_type": "code",
      "metadata": {
        "id": "zKn34iDBWJbi",
        "colab_type": "code",
        "colab": {}
      },
      "source": [
        "from google.colab import drive\n",
        "drive.mount('/content/drive')"
      ],
      "execution_count": 0,
      "outputs": []
    },
    {
      "cell_type": "code",
      "metadata": {
        "id": "RVc3M-23tLqA",
        "colab_type": "code",
        "colab": {}
      },
      "source": [
        "#get data from api \n",
        "\n",
        "url ='https://admin.jamcovid19.moh.gov.jm/public/api/statistics?type=1'\n",
        "\n",
        "r = requests.get(url)\n",
        "dictr = r.json()\n",
        "recs = dictr['data']['parishes_wise_report']\n",
        "df = pd.json_normalize(recs)\n",
        "#print(df)\n",
        "\n",
        "frame = pd.DataFrame(data=df)\n",
        "\n",
        "#select columns needed\n",
        "ParishData = frame.loc[:,['parish','total_tests_positive','number_of_deaths','number_of_people_recovered']]\n",
        "\n",
        "#rename columns\n",
        "ParishData.rename(columns={'parish':'Parish',\n",
        "                           'total_tests_positive':'Confirmed','number_of_deaths':'Deaths', \n",
        "                           'number_of_people_recovered':'Recoveries'}, inplace=True)\n",
        "ParishData\n"
      ],
      "execution_count": 0,
      "outputs": []
    },
    {
      "cell_type": "code",
      "metadata": {
        "id": "Zgbu8b7cbLSg",
        "colab_type": "code",
        "colab": {}
      },
      "source": [
        "ParishData_new = ParishData\n",
        "ParishData_new.at[0,'Parish'] = 'Hanover'\n",
        "ParishData_new.at[1,'Parish'] = 'St. Elizabeth'\n",
        "ParishData_new.at[2,'Parish'] = 'St. James'\n",
        "ParishData_new.at[7,'Parish'] = 'St. Ann'\n",
        "ParishData_new.at[8,'Parish'] = 'St. Catherine'\n",
        "ParishData_new.at[9,'Parish'] = 'St. Mary'\n",
        "ParishData_new.at[11,'Parish'] = 'St. Andrew'\n",
        "ParishData_new.at[12,'Parish'] = 'St. Thomas'\n",
        "# ParishData_new = pd.DataFrame({'Parish':['Hanover','St. Elizabeth','St. James','Trelawny','Westmoreland','Clarendon','Manchester','St. Ann','St. Catherine','St. Mary','Portland','St. Andrew','St. Thomas']})\n",
        "\n",
        "ParishData_new"
      ],
      "execution_count": 0,
      "outputs": []
    },
    {
      "cell_type": "code",
      "metadata": {
        "id": "b7g3Xw0EjRVM",
        "colab_type": "code",
        "colab": {}
      },
      "source": [
        "#use folium to get Jamaica's Map\n",
        "jamaica = folium.Map(\n",
        "    location=[18.1096,-77.2975],\n",
        "    zoom_start=9,\n",
        "    tiles='Mapbox Bright'\n",
        ")"
      ],
      "execution_count": 0,
      "outputs": []
    },
    {
      "cell_type": "code",
      "metadata": {
        "id": "2l1v0HoapwnE",
        "colab_type": "code",
        "colab": {}
      },
      "source": [
        "ParishData_new.dtypes"
      ],
      "execution_count": 0,
      "outputs": []
    },
    {
      "cell_type": "code",
      "metadata": {
        "id": "SuRc4_3qJILT",
        "colab_type": "code",
        "colab": {}
      },
      "source": [
        "#change data types\n",
        "ParishData_new['Parish'] = ParishData_new['Parish'].astype(str)\n",
        "\n",
        "ParishData_new['Confirmed'] = pd.to_numeric(ParishData_new['Confirmed'])\n",
        "ParishData_new['Recoveries'] = pd.to_numeric(ParishData_new['Recoveries'])\n",
        "ParishData_new['Deaths'] = pd.to_numeric(ParishData_new['Deaths'])\n",
        "\n",
        "ParishData_new.dtypes"
      ],
      "execution_count": 0,
      "outputs": []
    },
    {
      "cell_type": "code",
      "metadata": {
        "id": "_N7C0rbNLDCL",
        "colab_type": "code",
        "colab": {}
      },
      "source": [
        "#get geojosn file with Jamaica's Parishes/Boundaries\n",
        "geojson = os.path.join(pl.Path.cwd(),'data', '/content/drive/My Drive/Colab Notebooks/Data/JMParishes.json')\n",
        "jamaica_geo = json.load(open(geojson))"
      ],
      "execution_count": 0,
      "outputs": []
    },
    {
      "cell_type": "code",
      "metadata": {
        "id": "uiJYTtCxWAyN",
        "colab_type": "code",
        "colab": {}
      },
      "source": [
        "for j in range(13):\n",
        "  for i in range(len(ParishData_new['Parish'])):\n",
        "    if ((jamaica_geo['features'][j]['properties']['PARISH']) == (ParishData_new['Parish'][i])):\n",
        "      jamaica_geo['features'][j]['properties']['Confirmed'] = ParishData_new['Confirmed'][i]\n",
        "      jamaica_geo['features'][j]['properties']['Recoveries'] = ParishData_new['Recoveries'][i]\n",
        "      jamaica_geo['features'][j]['properties']['Deaths'] = ParishData_new['Deaths'][i]\n",
        "  print (jamaica_geo['features'][j]['properties'])\n",
        "\n",
        "  "
      ],
      "execution_count": 0,
      "outputs": []
    },
    {
      "cell_type": "code",
      "metadata": {
        "id": "0RUmgc-GtGr8",
        "colab_type": "code",
        "colab": {}
      },
      "source": [
        "#CONVERT FROM NUMPY INT64 TO REGULAR INT\n",
        "for x in range(13):\n",
        "  jamaica_geo['features'][x]['properties']['Confirmed'] = np.int(jamaica_geo['features'][x]['properties']['Confirmed'])\n",
        "  jamaica_geo['features'][x]['properties']['Recoveries'] = np.int(jamaica_geo['features'][x]['properties']['Recoveries'])\n",
        "  jamaica_geo['features'][x]['properties']['Deaths'] = np.int(jamaica_geo['features'][x]['properties']['Deaths'])\n"
      ],
      "execution_count": 0,
      "outputs": []
    },
    {
      "cell_type": "code",
      "metadata": {
        "id": "JEUXZPxCxz7F",
        "colab_type": "code",
        "colab": {}
      },
      "source": [
        "print(type(jamaica_geo['features'][0]['properties']['Deaths']))"
      ],
      "execution_count": 0,
      "outputs": []
    },
    {
      "cell_type": "code",
      "metadata": {
        "id": "cS1In1GA8Nkz",
        "colab_type": "code",
        "colab": {}
      },
      "source": [
        "#create Choropleth Map of Jamaica \n",
        "choro=Choropleth(\n",
        "    geo_data = jamaica_geo,\n",
        "    data = ParishData_new,\n",
        "    name = 'choro',\n",
        "    columns = ['Parish','Confirmed'],\n",
        "    key_on='feature.properties.PARISH',\n",
        "    fill_color='YlOrRd',\n",
        "    fill_opacity=0.9,\n",
        "    legend_name = 'Confirmed Corona Virus Cases by Parish',\n",
        "    reset=True\n",
        ").add_to(jamaica)"
      ],
      "execution_count": 0,
      "outputs": []
    },
    {
      "cell_type": "code",
      "metadata": {
        "id": "LzLSBLePLNE3",
        "colab_type": "code",
        "colab": {}
      },
      "source": [
        "choro.geojson.add_child(\n",
        "    folium.features.GeoJsonTooltip(fields=['PARISH', 'Confirmed','Deaths','Recoveries'], labels=True))"
      ],
      "execution_count": 0,
      "outputs": []
    },
    {
      "cell_type": "code",
      "metadata": {
        "id": "S368eUXCiIR_",
        "colab_type": "code",
        "colab": {}
      },
      "source": [
        "epi = ParishData_new.iloc[8]['Confirmed']\n",
        "info = str(epi) +' Cases'\n",
        "print (info)\n",
        "\n",
        "folium.CircleMarker(\n",
        "    location=[18.1096,-77],\n",
        "    radius=20,\n",
        "    fill=True,\n",
        ").add_child(folium.Popup(info)).add_to(jamaica)\n",
        "\n",
        "# folium.Marker(\n",
        "#     location=[18.1096,-77],\n",
        "#     # radius=10,\n",
        "#     # fill=True,\n",
        "# ).add_child(folium.Popup(info)).add_to(jamaica)"
      ],
      "execution_count": 0,
      "outputs": []
    },
    {
      "cell_type": "code",
      "metadata": {
        "id": "IzuIC1C7tZDz",
        "colab_type": "code",
        "colab": {}
      },
      "source": [
        "ParishData_new.dtypes"
      ],
      "execution_count": 0,
      "outputs": []
    },
    {
      "cell_type": "code",
      "metadata": {
        "id": "huWr2F4sExpE",
        "colab_type": "code",
        "colab": {}
      },
      "source": [
        "jamaica"
      ],
      "execution_count": 0,
      "outputs": []
    },
    {
      "cell_type": "code",
      "metadata": {
        "id": "J8tzdiIaerUX",
        "colab_type": "code",
        "colab": {}
      },
      "source": [
        "jamaica.save('jamaica.html')"
      ],
      "execution_count": 0,
      "outputs": []
    }
  ]
}