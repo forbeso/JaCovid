{
  "nbformat": 4,
  "nbformat_minor": 0,
  "metadata": {
    "colab": {
      "name": "Jamaica Covid-19 Cases By Parish.ipynb",
      "provenance": [],
      "collapsed_sections": [],
      "authorship_tag": "ABX9TyM9PqzUBujpX3HZZYyw0l+b"
    },
    "kernelspec": {
      "name": "python3",
      "display_name": "Python 3"
    }
  },
  "cells": [
    {
      "cell_type": "code",
      "metadata": {
        "id": "upAQANwOi0g-",
        "colab_type": "code",
        "colab": {}
      },
      "source": [
        "import pandas as pd\n",
        "import folium\n",
        "import json\n",
        "import os\n",
        "import pathlib as pl\n",
        "from bs4 import BeautifulSoup\n",
        "import urllib.request,json\n",
        "import requests"
      ],
      "execution_count": 0,
      "outputs": []
    },
    {
      "cell_type": "code",
      "metadata": {
        "id": "zKn34iDBWJbi",
        "colab_type": "code",
        "outputId": "f2a57321-72d3-4532-a676-02f9e247e7ad",
        "colab": {
          "base_uri": "https://localhost:8080/",
          "height": 55
        }
      },
      "source": [
        "from google.colab import drive\n",
        "drive.mount('/content/drive')"
      ],
      "execution_count": 232,
      "outputs": [
        {
          "output_type": "stream",
          "text": [
            "Drive already mounted at /content/drive; to attempt to forcibly remount, call drive.mount(\"/content/drive\", force_remount=True).\n"
          ],
          "name": "stdout"
        }
      ]
    },
    {
      "cell_type": "code",
      "metadata": {
        "id": "RVc3M-23tLqA",
        "colab_type": "code",
        "colab": {}
      },
      "source": [
        "#scrape MOH website for real time info\n",
        "\n",
        "url ='https://admin.jamcovid19.moh.gov.jm/public/api/statistics?type=1'\n",
        "\n",
        "r = requests.get(url)\n",
        "dictr = r.json()\n",
        "recs = dictr['data']['parishes_wise_report']\n",
        "df = pd.json_normalize(recs)\n",
        "#print(df)\n",
        "\n",
        "frame = pd.DataFrame(data=df)\n",
        "\n",
        "#select columns needed\n",
        "ParishData = frame.loc[:,['parish','total_tests_positive','number_of_deaths','number_of_people_recovered']]\n",
        "\n",
        "#rename columns\n",
        "ParishData.rename(columns={'parish':'Parish',\n",
        "                           'total_tests_positive':'Confirmed','number_of_deaths':'Deaths', \n",
        "                           'number_of_people_recovered':'Recoveries'}, inplace=True)\n",
        "ParishData\n"
      ],
      "execution_count": 0,
      "outputs": []
    },
    {
      "cell_type": "code",
      "metadata": {
        "id": "b7g3Xw0EjRVM",
        "colab_type": "code",
        "colab": {}
      },
      "source": [
        "#use folium to get Jamaica's Map\n",
        "jamaica = folium.Map(\n",
        "    location=[18.1096,-77.2975],\n",
        "    zoom_start=9,\n",
        "    tiles='Mapbox Bright'\n",
        ")"
      ],
      "execution_count": 0,
      "outputs": []
    },
    {
      "cell_type": "code",
      "metadata": {
        "id": "2l1v0HoapwnE",
        "colab_type": "code",
        "colab": {}
      },
      "source": [
        "ParishData.dtypes"
      ],
      "execution_count": 0,
      "outputs": []
    },
    {
      "cell_type": "code",
      "metadata": {
        "id": "SuRc4_3qJILT",
        "colab_type": "code",
        "colab": {}
      },
      "source": [
        "#change data types\n",
        "ParishData['Parish'] = ParishData['Parish'].astype(str)\n",
        "\n",
        "ParishData['Confirmed'] = pd.to_numeric(ParishData['Confirmed'])\n",
        "ParishData['Recoveries'] = pd.to_numeric(ParishData['Recoveries'])\n",
        "ParishData['Deaths'] = pd.to_numeric(ParishData['Deaths'])\n",
        "\n",
        "ParishData.dtypes"
      ],
      "execution_count": 0,
      "outputs": []
    },
    {
      "cell_type": "code",
      "metadata": {
        "id": "_N7C0rbNLDCL",
        "colab_type": "code",
        "colab": {}
      },
      "source": [
        "#get geojosn file with Jamaica's Parishes/Boundaries\n",
        "geojson = os.path.join(pl.Path.cwd(),'data', '/content/drive/My Drive/Colab Notebooks/Data/JMParishes.json')\n",
        "jamaica_geo = json.load(open(geojson))"
      ],
      "execution_count": 0,
      "outputs": []
    },
    {
      "cell_type": "code",
      "metadata": {
        "id": "cS1In1GA8Nkz",
        "colab_type": "code",
        "colab": {}
      },
      "source": [
        "#create Choropleth Map of Jamaica \n",
        "jamaica.choropleth(\n",
        "    geo_data = jamaica_geo,\n",
        "    data = ParishData,\n",
        "    columns = ['Parish','Confirmed'],\n",
        "    key_on='feature.id',\n",
        "    fill_color='YlOrRd',\n",
        "    legend_name = 'Confirmed Corona Virus Cases by Parish'\n",
        ")\n",
        "\n",
        "# n = 0\n",
        "# feature_group = folium.FeatureGroup(\"Locations\")\n",
        "# for i in jamaica_geo['features']:\n",
        "#   feature_group.add_child(folium.Marker(location=[jamaica_geo['features'][n]['geometry']['coordinates'][0][0]], popup='Hello',tooltip='Parish',icon=folium.Icon(icon='cloud')))\n",
        "#   #print(jamaica_geo['features'][n]['geometry']['coordinates'][0][0])\n",
        "#   jamaica.add_child(feature_group)\n",
        "#   n = n + 1\n",
        "# print ('done')\n",
        "\n",
        "folium.Marker(location=[18.0499998 -77.5333312],popup='Hello',tooltip='Parish').add_to(jamaica)\n",
        "  \n",
        "  \n"
      ],
      "execution_count": 0,
      "outputs": []
    },
    {
      "cell_type": "code",
      "metadata": {
        "id": "85HBjwU4ZmDv",
        "colab_type": "code",
        "colab": {}
      },
      "source": [
        "jamaica.save('jamaica.html')\n",
        "jamaica"
      ],
      "execution_count": 0,
      "outputs": []
    }
  ]
}