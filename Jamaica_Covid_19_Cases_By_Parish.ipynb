{
  "nbformat": 4,
  "nbformat_minor": 0,
  "metadata": {
    "colab": {
      "name": "Jamaica Covid-19 Cases By Parish.ipynb",
      "provenance": [],
      "private_outputs": true,
      "collapsed_sections": [],
      "authorship_tag": "ABX9TyPjDasTV8Fs4bdmQsYEwyyF",
      "include_colab_link": true
    },
    "kernelspec": {
      "name": "python3",
      "display_name": "Python 3"
    }
  },
  "cells": [
    {
      "cell_type": "markdown",
      "metadata": {
        "id": "view-in-github",
        "colab_type": "text"
      },
      "source": [
        "<a href=\"https://colab.research.google.com/github/forbeso/JaCovid/blob/develop/Jamaica_Covid_19_Cases_By_Parish.ipynb\" target=\"_parent\"><img src=\"https://colab.research.google.com/assets/colab-badge.svg\" alt=\"Open In Colab\"/></a>"
      ]
    },
    {
      "cell_type": "code",
      "metadata": {
        "id": "upAQANwOi0g-",
        "colab_type": "code",
        "colab": {}
      },
      "source": [
        "import pandas as pd\n",
        "import folium\n",
        "from folium import FeatureGroup, LayerControl, Map, Marker, Choropleth\n",
        "import json\n",
        "import os\n",
        "import pathlib as pl\n",
        "from bs4 import BeautifulSoup\n",
        "import urllib.request,json\n",
        "import requests\n",
        "from folium.plugins import MarkerCluster"
      ],
      "execution_count": 0,
      "outputs": []
    },
    {
      "cell_type": "code",
      "metadata": {
        "id": "zKn34iDBWJbi",
        "colab_type": "code",
        "colab": {}
      },
      "source": [
        "from google.colab import drive\n",
        "drive.mount('/content/drive')"
      ],
      "execution_count": 0,
      "outputs": []
    },
    {
      "cell_type": "code",
      "metadata": {
        "id": "RVc3M-23tLqA",
        "colab_type": "code",
        "colab": {}
      },
      "source": [
        "#get data from api \n",
        "\n",
        "url ='https://admin.jamcovid19.moh.gov.jm/public/api/statistics?type=1'\n",
        "\n",
        "r = requests.get(url)\n",
        "dictr = r.json()\n",
        "recs = dictr['data']['parishes_wise_report']\n",
        "df = pd.json_normalize(recs)\n",
        "#print(df)\n",
        "\n",
        "frame = pd.DataFrame(data=df)\n",
        "\n",
        "#select columns needed\n",
        "ParishData = frame.loc[:,['parish','total_tests_positive','number_of_deaths','number_of_people_recovered']]\n",
        "\n",
        "#rename columns\n",
        "ParishData.rename(columns={'parish':'Parish',\n",
        "                           'total_tests_positive':'Confirmed','number_of_deaths':'Deaths', \n",
        "                           'number_of_people_recovered':'Recoveries'}, inplace=True)\n",
        "ParishData\n"
      ],
      "execution_count": 0,
      "outputs": []
    },
    {
      "cell_type": "code",
      "metadata": {
        "id": "b7g3Xw0EjRVM",
        "colab_type": "code",
        "colab": {}
      },
      "source": [
        "#use folium to get Jamaica's Map\n",
        "jamaica = folium.Map(\n",
        "    location=[18.1096,-77.2975],\n",
        "    zoom_start=9,\n",
        "    tiles='Mapbox Bright'\n",
        ")"
      ],
      "execution_count": 0,
      "outputs": []
    },
    {
      "cell_type": "code",
      "metadata": {
        "id": "2l1v0HoapwnE",
        "colab_type": "code",
        "colab": {}
      },
      "source": [
        "ParishData.dtypes"
      ],
      "execution_count": 0,
      "outputs": []
    },
    {
      "cell_type": "code",
      "metadata": {
        "id": "SuRc4_3qJILT",
        "colab_type": "code",
        "colab": {}
      },
      "source": [
        "#change data types\n",
        "ParishData['Parish'] = ParishData['Parish'].astype(str)\n",
        "\n",
        "ParishData['Confirmed'] = pd.to_numeric(ParishData['Confirmed'])\n",
        "ParishData['Recoveries'] = pd.to_numeric(ParishData['Recoveries'])\n",
        "ParishData['Deaths'] = pd.to_numeric(ParishData['Deaths'])\n",
        "\n",
        "ParishData.dtypes"
      ],
      "execution_count": 0,
      "outputs": []
    },
    {
      "cell_type": "code",
      "metadata": {
        "id": "_N7C0rbNLDCL",
        "colab_type": "code",
        "colab": {}
      },
      "source": [
        "#get geojosn file with Jamaica's Parishes/Boundaries\n",
        "geojson = os.path.join(pl.Path.cwd(),'data', '/content/drive/My Drive/Colab Notebooks/Data/JMParishes.json')\n",
        "jamaica_geo = json.load(open(geojson))"
      ],
      "execution_count": 0,
      "outputs": []
    },
    {
      "cell_type": "code",
      "metadata": {
        "id": "cS1In1GA8Nkz",
        "colab_type": "code",
        "colab": {}
      },
      "source": [
        "#create Choropleth Map of Jamaica \n",
        "choro=Choropleth(\n",
        "    geo_data = jamaica_geo,\n",
        "    data = ParishData,\n",
        "    name = 'choro',\n",
        "    columns = ['Parish','Confirmed'],\n",
        "    key_on='feature.id',\n",
        "    fill_color='YlOrRd',\n",
        "    legend_name = 'Confirmed Corona Virus Cases by Parish'\n",
        ").add_to(jamaica)"
      ],
      "execution_count": 0,
      "outputs": []
    },
    {
      "cell_type": "code",
      "metadata": {
        "id": "LzLSBLePLNE3",
        "colab_type": "code",
        "colab": {}
      },
      "source": [
        "# tiles = ['openstreetmap']\n",
        "\n",
        "# for tile in tiles:\n",
        "#     folium.TileLayer(tile).add_to(jamaica)\n",
        "\n",
        "# folium.LayerControl().add_to(jamaica)"
      ],
      "execution_count": 0,
      "outputs": []
    },
    {
      "cell_type": "code",
      "metadata": {
        "id": "y16aQJ-ME4ic",
        "colab_type": "code",
        "colab": {}
      },
      "source": [
        "choro.geojson.add_child(\n",
        "    folium.features.GeoJsonTooltip(['PARISH'], labels=False)\n",
        ")\n"
      ],
      "execution_count": 0,
      "outputs": []
    },
    {
      "cell_type": "code",
      "metadata": {
        "id": "S368eUXCiIR_",
        "colab_type": "code",
        "colab": {}
      },
      "source": [
        "folium.CircleMarker(\n",
        "    location=[jamaica_geo['features'][0]['geometry']['coordinates'][0][0]],\n",
        "    radius=25,\n",
        "    fill=True,\n",
        "    popup=folium.Popup('inline explicit Popup')\n",
        ").add_to(jamaica)"
      ],
      "execution_count": 0,
      "outputs": []
    },
    {
      "cell_type": "code",
      "metadata": {
        "id": "huWr2F4sExpE",
        "colab_type": "code",
        "colab": {}
      },
      "source": [
        "jamaica"
      ],
      "execution_count": 0,
      "outputs": []
    },
    {
      "cell_type": "code",
      "metadata": {
        "id": "J8tzdiIaerUX",
        "colab_type": "code",
        "colab": {}
      },
      "source": [
        "jamaica.save('jamaica.html')"
      ],
      "execution_count": 0,
      "outputs": []
    }
  ]
}